{
 "cells": [
  {
   "cell_type": "code",
   "execution_count": 1,
   "id": "3bee3796",
   "metadata": {},
   "outputs": [],
   "source": [
    "import pandas as pd"
   ]
  },
  {
   "cell_type": "code",
   "execution_count": 2,
   "id": "af6db632",
   "metadata": {},
   "outputs": [],
   "source": [
    "df = pd.read_excel(r'C:\\Users\\barsuraj1\\Desktop\\Product Recommendation\\datasets\\Online Retail.xlsx')"
   ]
  },
  {
   "cell_type": "code",
   "execution_count": 3,
   "id": "040f6b2b",
   "metadata": {},
   "outputs": [
    {
     "data": {
      "text/html": [
       "<div>\n",
       "<style scoped>\n",
       "    .dataframe tbody tr th:only-of-type {\n",
       "        vertical-align: middle;\n",
       "    }\n",
       "\n",
       "    .dataframe tbody tr th {\n",
       "        vertical-align: top;\n",
       "    }\n",
       "\n",
       "    .dataframe thead th {\n",
       "        text-align: right;\n",
       "    }\n",
       "</style>\n",
       "<table border=\"1\" class=\"dataframe\">\n",
       "  <thead>\n",
       "    <tr style=\"text-align: right;\">\n",
       "      <th></th>\n",
       "      <th>InvoiceNo</th>\n",
       "      <th>StockCode</th>\n",
       "      <th>Description</th>\n",
       "      <th>Quantity</th>\n",
       "      <th>InvoiceDate</th>\n",
       "      <th>UnitPrice</th>\n",
       "      <th>CustomerID</th>\n",
       "      <th>Country</th>\n",
       "    </tr>\n",
       "  </thead>\n",
       "  <tbody>\n",
       "    <tr>\n",
       "      <th>0</th>\n",
       "      <td>536365</td>\n",
       "      <td>85123A</td>\n",
       "      <td>WHITE HANGING HEART T-LIGHT HOLDER</td>\n",
       "      <td>6</td>\n",
       "      <td>2010-12-01 08:26:00</td>\n",
       "      <td>2.55</td>\n",
       "      <td>17850.0</td>\n",
       "      <td>United Kingdom</td>\n",
       "    </tr>\n",
       "    <tr>\n",
       "      <th>1</th>\n",
       "      <td>536365</td>\n",
       "      <td>71053</td>\n",
       "      <td>WHITE METAL LANTERN</td>\n",
       "      <td>6</td>\n",
       "      <td>2010-12-01 08:26:00</td>\n",
       "      <td>3.39</td>\n",
       "      <td>17850.0</td>\n",
       "      <td>United Kingdom</td>\n",
       "    </tr>\n",
       "    <tr>\n",
       "      <th>2</th>\n",
       "      <td>536365</td>\n",
       "      <td>84406B</td>\n",
       "      <td>CREAM CUPID HEARTS COAT HANGER</td>\n",
       "      <td>8</td>\n",
       "      <td>2010-12-01 08:26:00</td>\n",
       "      <td>2.75</td>\n",
       "      <td>17850.0</td>\n",
       "      <td>United Kingdom</td>\n",
       "    </tr>\n",
       "    <tr>\n",
       "      <th>3</th>\n",
       "      <td>536365</td>\n",
       "      <td>84029G</td>\n",
       "      <td>KNITTED UNION FLAG HOT WATER BOTTLE</td>\n",
       "      <td>6</td>\n",
       "      <td>2010-12-01 08:26:00</td>\n",
       "      <td>3.39</td>\n",
       "      <td>17850.0</td>\n",
       "      <td>United Kingdom</td>\n",
       "    </tr>\n",
       "    <tr>\n",
       "      <th>4</th>\n",
       "      <td>536365</td>\n",
       "      <td>84029E</td>\n",
       "      <td>RED WOOLLY HOTTIE WHITE HEART.</td>\n",
       "      <td>6</td>\n",
       "      <td>2010-12-01 08:26:00</td>\n",
       "      <td>3.39</td>\n",
       "      <td>17850.0</td>\n",
       "      <td>United Kingdom</td>\n",
       "    </tr>\n",
       "  </tbody>\n",
       "</table>\n",
       "</div>"
      ],
      "text/plain": [
       "  InvoiceNo StockCode                          Description  Quantity  \\\n",
       "0    536365    85123A   WHITE HANGING HEART T-LIGHT HOLDER         6   \n",
       "1    536365     71053                  WHITE METAL LANTERN         6   \n",
       "2    536365    84406B       CREAM CUPID HEARTS COAT HANGER         8   \n",
       "3    536365    84029G  KNITTED UNION FLAG HOT WATER BOTTLE         6   \n",
       "4    536365    84029E       RED WOOLLY HOTTIE WHITE HEART.         6   \n",
       "\n",
       "          InvoiceDate  UnitPrice  CustomerID         Country  \n",
       "0 2010-12-01 08:26:00       2.55     17850.0  United Kingdom  \n",
       "1 2010-12-01 08:26:00       3.39     17850.0  United Kingdom  \n",
       "2 2010-12-01 08:26:00       2.75     17850.0  United Kingdom  \n",
       "3 2010-12-01 08:26:00       3.39     17850.0  United Kingdom  \n",
       "4 2010-12-01 08:26:00       3.39     17850.0  United Kingdom  "
      ]
     },
     "execution_count": 3,
     "metadata": {},
     "output_type": "execute_result"
    }
   ],
   "source": [
    "df.head()"
   ]
  },
  {
   "cell_type": "markdown",
   "id": "b8691de1",
   "metadata": {},
   "source": [
    "Goal is to recommend products purchased together by checing the frequency by which different items are purchased together, so we only need information about individual orders and individual products. \n",
    "as it will be more convenient for display purposes we will also use the Description. \n",
    "so we don't required the rest of the attributed.\n",
    "\n",
    "We will keep two DataFrames.\n",
    "\n",
    "One for Building the recommendation system with the following features:\n",
    "\n",
    "InvoiceNo\n",
    "StockCode\n",
    "\n",
    "And one for matching the description to the StockCode:\n",
    "\n",
    "StockCode\n",
    "Description"
   ]
  },
  {
   "cell_type": "code",
   "execution_count": 4,
   "id": "18625b69",
   "metadata": {},
   "outputs": [],
   "source": [
    "# Modify StockCode to always be a string by prepending '_'\n",
    "df['StockCode'] = df['StockCode'].apply(lambda x: '_'+str(x))"
   ]
  },
  {
   "cell_type": "code",
   "execution_count": 5,
   "id": "21669907",
   "metadata": {},
   "outputs": [
    {
     "data": {
      "text/html": [
       "<div>\n",
       "<style scoped>\n",
       "    .dataframe tbody tr th:only-of-type {\n",
       "        vertical-align: middle;\n",
       "    }\n",
       "\n",
       "    .dataframe tbody tr th {\n",
       "        vertical-align: top;\n",
       "    }\n",
       "\n",
       "    .dataframe thead th {\n",
       "        text-align: right;\n",
       "    }\n",
       "</style>\n",
       "<table border=\"1\" class=\"dataframe\">\n",
       "  <thead>\n",
       "    <tr style=\"text-align: right;\">\n",
       "      <th></th>\n",
       "      <th>InvoiceNo</th>\n",
       "      <th>StockCode</th>\n",
       "    </tr>\n",
       "  </thead>\n",
       "  <tbody>\n",
       "    <tr>\n",
       "      <th>0</th>\n",
       "      <td>536365</td>\n",
       "      <td>_85123A</td>\n",
       "    </tr>\n",
       "    <tr>\n",
       "      <th>1</th>\n",
       "      <td>536365</td>\n",
       "      <td>_71053</td>\n",
       "    </tr>\n",
       "    <tr>\n",
       "      <th>2</th>\n",
       "      <td>536365</td>\n",
       "      <td>_84406B</td>\n",
       "    </tr>\n",
       "    <tr>\n",
       "      <th>3</th>\n",
       "      <td>536365</td>\n",
       "      <td>_84029G</td>\n",
       "    </tr>\n",
       "    <tr>\n",
       "      <th>4</th>\n",
       "      <td>536365</td>\n",
       "      <td>_84029E</td>\n",
       "    </tr>\n",
       "  </tbody>\n",
       "</table>\n",
       "</div>"
      ],
      "text/plain": [
       "  InvoiceNo StockCode\n",
       "0    536365   _85123A\n",
       "1    536365    _71053\n",
       "2    536365   _84406B\n",
       "3    536365   _84029G\n",
       "4    536365   _84029E"
      ]
     },
     "execution_count": 5,
     "metadata": {},
     "output_type": "execute_result"
    }
   ],
   "source": [
    "# DataFrame for building the recommendation system\n",
    "orders = df[['InvoiceNo', 'StockCode']]\n",
    "orders.head()"
   ]
  },
  {
   "cell_type": "code",
   "execution_count": 6,
   "id": "c60e7e5e",
   "metadata": {},
   "outputs": [
    {
     "data": {
      "text/html": [
       "<div>\n",
       "<style scoped>\n",
       "    .dataframe tbody tr th:only-of-type {\n",
       "        vertical-align: middle;\n",
       "    }\n",
       "\n",
       "    .dataframe tbody tr th {\n",
       "        vertical-align: top;\n",
       "    }\n",
       "\n",
       "    .dataframe thead th {\n",
       "        text-align: right;\n",
       "    }\n",
       "</style>\n",
       "<table border=\"1\" class=\"dataframe\">\n",
       "  <thead>\n",
       "    <tr style=\"text-align: right;\">\n",
       "      <th></th>\n",
       "      <th>StockCode</th>\n",
       "      <th>Description</th>\n",
       "    </tr>\n",
       "  </thead>\n",
       "  <tbody>\n",
       "    <tr>\n",
       "      <th>0</th>\n",
       "      <td>_85123A</td>\n",
       "      <td>WHITE HANGING HEART T-LIGHT HOLDER</td>\n",
       "    </tr>\n",
       "    <tr>\n",
       "      <th>1</th>\n",
       "      <td>_71053</td>\n",
       "      <td>WHITE METAL LANTERN</td>\n",
       "    </tr>\n",
       "    <tr>\n",
       "      <th>2</th>\n",
       "      <td>_84406B</td>\n",
       "      <td>CREAM CUPID HEARTS COAT HANGER</td>\n",
       "    </tr>\n",
       "    <tr>\n",
       "      <th>3</th>\n",
       "      <td>_84029G</td>\n",
       "      <td>KNITTED UNION FLAG HOT WATER BOTTLE</td>\n",
       "    </tr>\n",
       "    <tr>\n",
       "      <th>4</th>\n",
       "      <td>_84029E</td>\n",
       "      <td>RED WOOLLY HOTTIE WHITE HEART.</td>\n",
       "    </tr>\n",
       "  </tbody>\n",
       "</table>\n",
       "</div>"
      ],
      "text/plain": [
       "  StockCode                          Description\n",
       "0   _85123A   WHITE HANGING HEART T-LIGHT HOLDER\n",
       "1    _71053                  WHITE METAL LANTERN\n",
       "2   _84406B       CREAM CUPID HEARTS COAT HANGER\n",
       "3   _84029G  KNITTED UNION FLAG HOT WATER BOTTLE\n",
       "4   _84029E       RED WOOLLY HOTTIE WHITE HEART."
      ]
     },
     "execution_count": 6,
     "metadata": {},
     "output_type": "execute_result"
    }
   ],
   "source": [
    "# DataFrame for retrieving product descriptions\n",
    "products = df[['StockCode', 'Description']].copy()\n",
    "products.head()"
   ]
  },
  {
   "cell_type": "code",
   "execution_count": 7,
   "id": "9eebeaa1",
   "metadata": {},
   "outputs": [
    {
     "data": {
      "text/html": [
       "<div>\n",
       "<style scoped>\n",
       "    .dataframe tbody tr th:only-of-type {\n",
       "        vertical-align: middle;\n",
       "    }\n",
       "\n",
       "    .dataframe tbody tr th {\n",
       "        vertical-align: top;\n",
       "    }\n",
       "\n",
       "    .dataframe thead th {\n",
       "        text-align: right;\n",
       "    }\n",
       "</style>\n",
       "<table border=\"1\" class=\"dataframe\">\n",
       "  <thead>\n",
       "    <tr style=\"text-align: right;\">\n",
       "      <th></th>\n",
       "      <th>StockCode</th>\n",
       "      <th>Description</th>\n",
       "    </tr>\n",
       "  </thead>\n",
       "  <tbody>\n",
       "    <tr>\n",
       "      <th>0</th>\n",
       "      <td>_85123A</td>\n",
       "      <td>WHITE HANGING HEART T-LIGHT HOLDER</td>\n",
       "    </tr>\n",
       "    <tr>\n",
       "      <th>1</th>\n",
       "      <td>_71053</td>\n",
       "      <td>WHITE METAL LANTERN</td>\n",
       "    </tr>\n",
       "    <tr>\n",
       "      <th>2</th>\n",
       "      <td>_84406B</td>\n",
       "      <td>CREAM CUPID HEARTS COAT HANGER</td>\n",
       "    </tr>\n",
       "    <tr>\n",
       "      <th>3</th>\n",
       "      <td>_84029G</td>\n",
       "      <td>KNITTED UNION FLAG HOT WATER BOTTLE</td>\n",
       "    </tr>\n",
       "    <tr>\n",
       "      <th>4</th>\n",
       "      <td>_84029E</td>\n",
       "      <td>RED WOOLLY HOTTIE WHITE HEART.</td>\n",
       "    </tr>\n",
       "  </tbody>\n",
       "</table>\n",
       "</div>"
      ],
      "text/plain": [
       "  StockCode                          Description\n",
       "0   _85123A   WHITE HANGING HEART T-LIGHT HOLDER\n",
       "1    _71053                  WHITE METAL LANTERN\n",
       "2   _84406B       CREAM CUPID HEARTS COAT HANGER\n",
       "3   _84029G  KNITTED UNION FLAG HOT WATER BOTTLE\n",
       "4   _84029E       RED WOOLLY HOTTIE WHITE HEART."
      ]
     },
     "execution_count": 7,
     "metadata": {},
     "output_type": "execute_result"
    }
   ],
   "source": [
    "# Drop duplicated products\n",
    "products = products[~products.duplicated()]\n",
    "products.head()"
   ]
  },
  {
   "cell_type": "code",
   "execution_count": 8,
   "id": "4fa33e6d",
   "metadata": {},
   "outputs": [],
   "source": [
    "# Drop descriptions that are not uppercase\n",
    "products = products[products['Description'].str.upper() == products['Description']]"
   ]
  },
  {
   "cell_type": "code",
   "execution_count": 9,
   "id": "283e5531",
   "metadata": {},
   "outputs": [
    {
     "data": {
      "text/html": [
       "<div>\n",
       "<style scoped>\n",
       "    .dataframe tbody tr th:only-of-type {\n",
       "        vertical-align: middle;\n",
       "    }\n",
       "\n",
       "    .dataframe tbody tr th {\n",
       "        vertical-align: top;\n",
       "    }\n",
       "\n",
       "    .dataframe thead th {\n",
       "        text-align: right;\n",
       "    }\n",
       "</style>\n",
       "<table border=\"1\" class=\"dataframe\">\n",
       "  <thead>\n",
       "    <tr style=\"text-align: right;\">\n",
       "      <th></th>\n",
       "      <th>StockCode</th>\n",
       "      <th>Description</th>\n",
       "    </tr>\n",
       "  </thead>\n",
       "  <tbody>\n",
       "    <tr>\n",
       "      <th>0</th>\n",
       "      <td>_85123A</td>\n",
       "      <td>WHITE HANGING HEART T-LIGHT HOLDER</td>\n",
       "    </tr>\n",
       "    <tr>\n",
       "      <th>1</th>\n",
       "      <td>_71053</td>\n",
       "      <td>WHITE METAL LANTERN</td>\n",
       "    </tr>\n",
       "    <tr>\n",
       "      <th>2</th>\n",
       "      <td>_84406B</td>\n",
       "      <td>CREAM CUPID HEARTS COAT HANGER</td>\n",
       "    </tr>\n",
       "    <tr>\n",
       "      <th>3</th>\n",
       "      <td>_84029G</td>\n",
       "      <td>KNITTED UNION FLAG HOT WATER BOTTLE</td>\n",
       "    </tr>\n",
       "    <tr>\n",
       "      <th>4</th>\n",
       "      <td>_84029E</td>\n",
       "      <td>RED WOOLLY HOTTIE WHITE HEART.</td>\n",
       "    </tr>\n",
       "    <tr>\n",
       "      <th>...</th>\n",
       "      <td>...</td>\n",
       "      <td>...</td>\n",
       "    </tr>\n",
       "    <tr>\n",
       "      <th>509369</th>\n",
       "      <td>_85179a</td>\n",
       "      <td>GREEN BITTY LIGHT CHAIN</td>\n",
       "    </tr>\n",
       "    <tr>\n",
       "      <th>512588</th>\n",
       "      <td>_23617</td>\n",
       "      <td>SET 10 CARDS SWIRLY XMAS TREE 17104</td>\n",
       "    </tr>\n",
       "    <tr>\n",
       "      <th>527065</th>\n",
       "      <td>_90214U</td>\n",
       "      <td>LETTER \"U\" BLING KEY RING</td>\n",
       "    </tr>\n",
       "    <tr>\n",
       "      <th>537224</th>\n",
       "      <td>_47591b</td>\n",
       "      <td>SCOTTIES CHILDRENS APRON</td>\n",
       "    </tr>\n",
       "    <tr>\n",
       "      <th>540421</th>\n",
       "      <td>_23843</td>\n",
       "      <td>PAPER CRAFT , LITTLE BIRDIE</td>\n",
       "    </tr>\n",
       "  </tbody>\n",
       "</table>\n",
       "<p>3905 rows × 2 columns</p>\n",
       "</div>"
      ],
      "text/plain": [
       "       StockCode                          Description\n",
       "0        _85123A   WHITE HANGING HEART T-LIGHT HOLDER\n",
       "1         _71053                  WHITE METAL LANTERN\n",
       "2        _84406B       CREAM CUPID HEARTS COAT HANGER\n",
       "3        _84029G  KNITTED UNION FLAG HOT WATER BOTTLE\n",
       "4        _84029E       RED WOOLLY HOTTIE WHITE HEART.\n",
       "...          ...                                  ...\n",
       "509369   _85179a              GREEN BITTY LIGHT CHAIN\n",
       "512588    _23617  SET 10 CARDS SWIRLY XMAS TREE 17104\n",
       "527065   _90214U            LETTER \"U\" BLING KEY RING\n",
       "537224   _47591b             SCOTTIES CHILDRENS APRON\n",
       "540421    _23843          PAPER CRAFT , LITTLE BIRDIE\n",
       "\n",
       "[3905 rows x 2 columns]"
      ]
     },
     "execution_count": 9,
     "metadata": {},
     "output_type": "execute_result"
    }
   ],
   "source": [
    "# Keep only the first Description of each product\n",
    "products = products[~products.duplicated(subset=['StockCode'])]\n",
    "\n",
    "products"
   ]
  },
  {
   "cell_type": "code",
   "execution_count": 10,
   "id": "d19751fa",
   "metadata": {},
   "outputs": [
    {
     "data": {
      "text/plain": [
       "(3905, 2)"
      ]
     },
     "execution_count": 10,
     "metadata": {},
     "output_type": "execute_result"
    }
   ],
   "source": [
    "products.shape"
   ]
  },
  {
   "cell_type": "code",
   "execution_count": 11,
   "id": "38e435a2",
   "metadata": {},
   "outputs": [],
   "source": [
    "# Set the index to StockCode\n",
    "products = products.set_index('StockCode')"
   ]
  },
  {
   "cell_type": "code",
   "execution_count": 12,
   "id": "e3320432",
   "metadata": {},
   "outputs": [],
   "source": [
    "# Convert to Series for eve easier lookups\n",
    "products = products['Description']"
   ]
  },
  {
   "cell_type": "code",
   "execution_count": 15,
   "id": "d486c4b5",
   "metadata": {},
   "outputs": [
    {
     "data": {
      "text/plain": [
       "'WHITE METAL LANTERN'"
      ]
     },
     "execution_count": 15,
     "metadata": {},
     "output_type": "execute_result"
    }
   ],
   "source": [
    "# Test it out\n",
    "products['_71053']"
   ]
  },
  {
   "cell_type": "code",
   "execution_count": 16,
   "id": "9d33217c",
   "metadata": {},
   "outputs": [
    {
     "data": {
      "text/plain": [
       "3905"
      ]
     },
     "execution_count": 16,
     "metadata": {},
     "output_type": "execute_result"
    }
   ],
   "source": [
    "# No of unique products\n",
    "len(products)"
   ]
  },
  {
   "cell_type": "code",
   "execution_count": 22,
   "id": "dec43f9c",
   "metadata": {},
   "outputs": [
    {
     "data": {
      "text/plain": [
       "3779"
      ]
     },
     "execution_count": 22,
     "metadata": {},
     "output_type": "execute_result"
    }
   ],
   "source": [
    "### no of unique products\n",
    "products.nunique()"
   ]
  },
  {
   "cell_type": "markdown",
   "id": "6d6c53d8",
   "metadata": {},
   "source": [
    "### Restructure the data\n",
    "\n",
    "We would like each Invoice Number to give us a list of stock codes."
   ]
  },
  {
   "cell_type": "code",
   "execution_count": 23,
   "id": "b59f66c1",
   "metadata": {},
   "outputs": [],
   "source": [
    "def string_list(x):\n",
    "    return [str(i) for i in x]"
   ]
  },
  {
   "cell_type": "code",
   "execution_count": 24,
   "id": "bad4f9ee",
   "metadata": {},
   "outputs": [
    {
     "data": {
      "text/html": [
       "<div>\n",
       "<style scoped>\n",
       "    .dataframe tbody tr th:only-of-type {\n",
       "        vertical-align: middle;\n",
       "    }\n",
       "\n",
       "    .dataframe tbody tr th {\n",
       "        vertical-align: top;\n",
       "    }\n",
       "\n",
       "    .dataframe thead th {\n",
       "        text-align: right;\n",
       "    }\n",
       "</style>\n",
       "<table border=\"1\" class=\"dataframe\">\n",
       "  <thead>\n",
       "    <tr style=\"text-align: right;\">\n",
       "      <th></th>\n",
       "      <th>InvoiceNo</th>\n",
       "      <th>StockCode</th>\n",
       "    </tr>\n",
       "  </thead>\n",
       "  <tbody>\n",
       "    <tr>\n",
       "      <th>0</th>\n",
       "      <td>536365</td>\n",
       "      <td>[_85123A, _71053, _84406B, _84029G, _84029E, _...</td>\n",
       "    </tr>\n",
       "    <tr>\n",
       "      <th>1</th>\n",
       "      <td>536366</td>\n",
       "      <td>[_22633, _22632]</td>\n",
       "    </tr>\n",
       "    <tr>\n",
       "      <th>2</th>\n",
       "      <td>536367</td>\n",
       "      <td>[_84879, _22745, _22748, _22749, _22310, _8496...</td>\n",
       "    </tr>\n",
       "    <tr>\n",
       "      <th>3</th>\n",
       "      <td>536368</td>\n",
       "      <td>[_22960, _22913, _22912, _22914]</td>\n",
       "    </tr>\n",
       "    <tr>\n",
       "      <th>4</th>\n",
       "      <td>536369</td>\n",
       "      <td>[_21756]</td>\n",
       "    </tr>\n",
       "  </tbody>\n",
       "</table>\n",
       "</div>"
      ],
      "text/plain": [
       "  InvoiceNo                                          StockCode\n",
       "0    536365  [_85123A, _71053, _84406B, _84029G, _84029E, _...\n",
       "1    536366                                   [_22633, _22632]\n",
       "2    536367  [_84879, _22745, _22748, _22749, _22310, _8496...\n",
       "3    536368                   [_22960, _22913, _22912, _22914]\n",
       "4    536369                                           [_21756]"
      ]
     },
     "execution_count": 24,
     "metadata": {},
     "output_type": "execute_result"
    }
   ],
   "source": [
    "orders = orders.groupby('InvoiceNo')['StockCode'].apply(list).reset_index()\n",
    "orders.head()"
   ]
  },
  {
   "cell_type": "code",
   "execution_count": 26,
   "id": "b17ee69a",
   "metadata": {},
   "outputs": [],
   "source": [
    "from mlxtend.preprocessing import TransactionEncoder"
   ]
  },
  {
   "cell_type": "code",
   "execution_count": 27,
   "id": "d9aead04",
   "metadata": {},
   "outputs": [],
   "source": [
    "te = TransactionEncoder()\n",
    "\n",
    "te.fit(orders['StockCode'])\n",
    "orders_1hot = te.transform(orders['StockCode'])"
   ]
  },
  {
   "cell_type": "code",
   "execution_count": 28,
   "id": "a4d518c1",
   "metadata": {},
   "outputs": [
    {
     "data": {
      "text/html": [
       "<div>\n",
       "<style scoped>\n",
       "    .dataframe tbody tr th:only-of-type {\n",
       "        vertical-align: middle;\n",
       "    }\n",
       "\n",
       "    .dataframe tbody tr th {\n",
       "        vertical-align: top;\n",
       "    }\n",
       "\n",
       "    .dataframe thead th {\n",
       "        text-align: right;\n",
       "    }\n",
       "</style>\n",
       "<table border=\"1\" class=\"dataframe\">\n",
       "  <thead>\n",
       "    <tr style=\"text-align: right;\">\n",
       "      <th></th>\n",
       "      <th>_10002</th>\n",
       "      <th>_10080</th>\n",
       "      <th>_10120</th>\n",
       "      <th>_10123C</th>\n",
       "      <th>_10123G</th>\n",
       "      <th>_10124A</th>\n",
       "      <th>_10124G</th>\n",
       "      <th>_10125</th>\n",
       "      <th>_10133</th>\n",
       "      <th>_10134</th>\n",
       "      <th>...</th>\n",
       "      <th>_M</th>\n",
       "      <th>_PADS</th>\n",
       "      <th>_POST</th>\n",
       "      <th>_S</th>\n",
       "      <th>_gift_0001_10</th>\n",
       "      <th>_gift_0001_20</th>\n",
       "      <th>_gift_0001_30</th>\n",
       "      <th>_gift_0001_40</th>\n",
       "      <th>_gift_0001_50</th>\n",
       "      <th>_m</th>\n",
       "    </tr>\n",
       "  </thead>\n",
       "  <tbody>\n",
       "    <tr>\n",
       "      <th>0</th>\n",
       "      <td>False</td>\n",
       "      <td>False</td>\n",
       "      <td>False</td>\n",
       "      <td>False</td>\n",
       "      <td>False</td>\n",
       "      <td>False</td>\n",
       "      <td>False</td>\n",
       "      <td>False</td>\n",
       "      <td>False</td>\n",
       "      <td>False</td>\n",
       "      <td>...</td>\n",
       "      <td>False</td>\n",
       "      <td>False</td>\n",
       "      <td>False</td>\n",
       "      <td>False</td>\n",
       "      <td>False</td>\n",
       "      <td>False</td>\n",
       "      <td>False</td>\n",
       "      <td>False</td>\n",
       "      <td>False</td>\n",
       "      <td>False</td>\n",
       "    </tr>\n",
       "    <tr>\n",
       "      <th>1</th>\n",
       "      <td>False</td>\n",
       "      <td>False</td>\n",
       "      <td>False</td>\n",
       "      <td>False</td>\n",
       "      <td>False</td>\n",
       "      <td>False</td>\n",
       "      <td>False</td>\n",
       "      <td>False</td>\n",
       "      <td>False</td>\n",
       "      <td>False</td>\n",
       "      <td>...</td>\n",
       "      <td>False</td>\n",
       "      <td>False</td>\n",
       "      <td>False</td>\n",
       "      <td>False</td>\n",
       "      <td>False</td>\n",
       "      <td>False</td>\n",
       "      <td>False</td>\n",
       "      <td>False</td>\n",
       "      <td>False</td>\n",
       "      <td>False</td>\n",
       "    </tr>\n",
       "    <tr>\n",
       "      <th>2</th>\n",
       "      <td>False</td>\n",
       "      <td>False</td>\n",
       "      <td>False</td>\n",
       "      <td>False</td>\n",
       "      <td>False</td>\n",
       "      <td>False</td>\n",
       "      <td>False</td>\n",
       "      <td>False</td>\n",
       "      <td>False</td>\n",
       "      <td>False</td>\n",
       "      <td>...</td>\n",
       "      <td>False</td>\n",
       "      <td>False</td>\n",
       "      <td>False</td>\n",
       "      <td>False</td>\n",
       "      <td>False</td>\n",
       "      <td>False</td>\n",
       "      <td>False</td>\n",
       "      <td>False</td>\n",
       "      <td>False</td>\n",
       "      <td>False</td>\n",
       "    </tr>\n",
       "    <tr>\n",
       "      <th>3</th>\n",
       "      <td>False</td>\n",
       "      <td>False</td>\n",
       "      <td>False</td>\n",
       "      <td>False</td>\n",
       "      <td>False</td>\n",
       "      <td>False</td>\n",
       "      <td>False</td>\n",
       "      <td>False</td>\n",
       "      <td>False</td>\n",
       "      <td>False</td>\n",
       "      <td>...</td>\n",
       "      <td>False</td>\n",
       "      <td>False</td>\n",
       "      <td>False</td>\n",
       "      <td>False</td>\n",
       "      <td>False</td>\n",
       "      <td>False</td>\n",
       "      <td>False</td>\n",
       "      <td>False</td>\n",
       "      <td>False</td>\n",
       "      <td>False</td>\n",
       "    </tr>\n",
       "    <tr>\n",
       "      <th>4</th>\n",
       "      <td>False</td>\n",
       "      <td>False</td>\n",
       "      <td>False</td>\n",
       "      <td>False</td>\n",
       "      <td>False</td>\n",
       "      <td>False</td>\n",
       "      <td>False</td>\n",
       "      <td>False</td>\n",
       "      <td>False</td>\n",
       "      <td>False</td>\n",
       "      <td>...</td>\n",
       "      <td>False</td>\n",
       "      <td>False</td>\n",
       "      <td>False</td>\n",
       "      <td>False</td>\n",
       "      <td>False</td>\n",
       "      <td>False</td>\n",
       "      <td>False</td>\n",
       "      <td>False</td>\n",
       "      <td>False</td>\n",
       "      <td>False</td>\n",
       "    </tr>\n",
       "  </tbody>\n",
       "</table>\n",
       "<p>5 rows × 4070 columns</p>\n",
       "</div>"
      ],
      "text/plain": [
       "   _10002  _10080  _10120  _10123C  _10123G  _10124A  _10124G  _10125  _10133  \\\n",
       "0   False   False   False    False    False    False    False   False   False   \n",
       "1   False   False   False    False    False    False    False   False   False   \n",
       "2   False   False   False    False    False    False    False   False   False   \n",
       "3   False   False   False    False    False    False    False   False   False   \n",
       "4   False   False   False    False    False    False    False   False   False   \n",
       "\n",
       "   _10134  ...     _M  _PADS  _POST     _S  _gift_0001_10  _gift_0001_20  \\\n",
       "0   False  ...  False  False  False  False          False          False   \n",
       "1   False  ...  False  False  False  False          False          False   \n",
       "2   False  ...  False  False  False  False          False          False   \n",
       "3   False  ...  False  False  False  False          False          False   \n",
       "4   False  ...  False  False  False  False          False          False   \n",
       "\n",
       "   _gift_0001_30  _gift_0001_40  _gift_0001_50     _m  \n",
       "0          False          False          False  False  \n",
       "1          False          False          False  False  \n",
       "2          False          False          False  False  \n",
       "3          False          False          False  False  \n",
       "4          False          False          False  False  \n",
       "\n",
       "[5 rows x 4070 columns]"
      ]
     },
     "execution_count": 28,
     "metadata": {},
     "output_type": "execute_result"
    }
   ],
   "source": [
    "orders_1hot = pd.DataFrame(orders_1hot, columns =te.columns_)\n",
    "orders_1hot.head()"
   ]
  },
  {
   "cell_type": "markdown",
   "id": "d723c8f9",
   "metadata": {},
   "source": [
    "### Apriori"
   ]
  },
  {
   "cell_type": "code",
   "execution_count": 29,
   "id": "b61560a6",
   "metadata": {},
   "outputs": [],
   "source": [
    "from mlxtend.frequent_patterns import apriori"
   ]
  },
  {
   "cell_type": "code",
   "execution_count": 30,
   "id": "4fe37bf9",
   "metadata": {},
   "outputs": [
    {
     "name": "stdout",
     "output_type": "stream",
     "text": [
      "5min 9s ± 0 ns per loop (mean ± std. dev. of 1 run, 1 loop each)\n"
     ]
    }
   ],
   "source": [
    "%%timeit -n1 -r1\n",
    "\n",
    "apriori(orders_1hot, min_support=0.01, max_len=2, use_colnames=True)"
   ]
  },
  {
   "cell_type": "code",
   "execution_count": 31,
   "id": "33b7aff9",
   "metadata": {},
   "outputs": [],
   "source": [
    "is_ap = apriori(orders_1hot, min_support=0.01, max_len=2, use_colnames=True)"
   ]
  },
  {
   "cell_type": "code",
   "execution_count": 32,
   "id": "e9d5c4ad",
   "metadata": {},
   "outputs": [
    {
     "data": {
      "text/html": [
       "<div>\n",
       "<style scoped>\n",
       "    .dataframe tbody tr th:only-of-type {\n",
       "        vertical-align: middle;\n",
       "    }\n",
       "\n",
       "    .dataframe tbody tr th {\n",
       "        vertical-align: top;\n",
       "    }\n",
       "\n",
       "    .dataframe thead th {\n",
       "        text-align: right;\n",
       "    }\n",
       "</style>\n",
       "<table border=\"1\" class=\"dataframe\">\n",
       "  <thead>\n",
       "    <tr style=\"text-align: right;\">\n",
       "      <th></th>\n",
       "      <th>support</th>\n",
       "      <th>itemsets</th>\n",
       "    </tr>\n",
       "  </thead>\n",
       "  <tbody>\n",
       "    <tr>\n",
       "      <th>0</th>\n",
       "      <td>0.020193</td>\n",
       "      <td>(_15036)</td>\n",
       "    </tr>\n",
       "    <tr>\n",
       "      <th>1</th>\n",
       "      <td>0.012587</td>\n",
       "      <td>(_15056BL)</td>\n",
       "    </tr>\n",
       "    <tr>\n",
       "      <th>2</th>\n",
       "      <td>0.017876</td>\n",
       "      <td>(_15056N)</td>\n",
       "    </tr>\n",
       "    <tr>\n",
       "      <th>3</th>\n",
       "      <td>0.011236</td>\n",
       "      <td>(_16237)</td>\n",
       "    </tr>\n",
       "    <tr>\n",
       "      <th>4</th>\n",
       "      <td>0.012510</td>\n",
       "      <td>(_20675)</td>\n",
       "    </tr>\n",
       "  </tbody>\n",
       "</table>\n",
       "</div>"
      ],
      "text/plain": [
       "    support    itemsets\n",
       "0  0.020193    (_15036)\n",
       "1  0.012587  (_15056BL)\n",
       "2  0.017876   (_15056N)\n",
       "3  0.011236    (_16237)\n",
       "4  0.012510    (_20675)"
      ]
     },
     "execution_count": 32,
     "metadata": {},
     "output_type": "execute_result"
    }
   ],
   "source": [
    "is_ap.head()"
   ]
  },
  {
   "cell_type": "markdown",
   "id": "80794793",
   "metadata": {},
   "source": [
    "## FP Growth"
   ]
  },
  {
   "cell_type": "code",
   "execution_count": 33,
   "id": "3a988d75",
   "metadata": {},
   "outputs": [],
   "source": [
    "from mlxtend.frequent_patterns import fpgrowth"
   ]
  },
  {
   "cell_type": "code",
   "execution_count": 34,
   "id": "335c5604",
   "metadata": {},
   "outputs": [
    {
     "name": "stdout",
     "output_type": "stream",
     "text": [
      "13.5 s ± 0 ns per loop (mean ± std. dev. of 1 run, 1 loop each)\n"
     ]
    }
   ],
   "source": [
    "%%timeit -n1 -r1\n",
    "\n",
    "fpgrowth(orders_1hot, min_support=0.01, max_len=2, use_colnames=True)"
   ]
  },
  {
   "cell_type": "code",
   "execution_count": 35,
   "id": "f0588569",
   "metadata": {},
   "outputs": [],
   "source": [
    "is_fp = fpgrowth(orders_1hot, min_support=0.01, max_len=2, use_colnames=True)"
   ]
  },
  {
   "cell_type": "code",
   "execution_count": 36,
   "id": "8819e6b5",
   "metadata": {},
   "outputs": [
    {
     "data": {
      "text/html": [
       "<div>\n",
       "<style scoped>\n",
       "    .dataframe tbody tr th:only-of-type {\n",
       "        vertical-align: middle;\n",
       "    }\n",
       "\n",
       "    .dataframe tbody tr th {\n",
       "        vertical-align: top;\n",
       "    }\n",
       "\n",
       "    .dataframe thead th {\n",
       "        text-align: right;\n",
       "    }\n",
       "</style>\n",
       "<table border=\"1\" class=\"dataframe\">\n",
       "  <thead>\n",
       "    <tr style=\"text-align: right;\">\n",
       "      <th></th>\n",
       "      <th>support</th>\n",
       "      <th>itemsets</th>\n",
       "    </tr>\n",
       "  </thead>\n",
       "  <tbody>\n",
       "    <tr>\n",
       "      <th>0</th>\n",
       "      <td>0.086718</td>\n",
       "      <td>(_85123A)</td>\n",
       "    </tr>\n",
       "    <tr>\n",
       "      <th>1</th>\n",
       "      <td>0.017915</td>\n",
       "      <td>(_84029G)</td>\n",
       "    </tr>\n",
       "    <tr>\n",
       "      <th>2</th>\n",
       "      <td>0.016911</td>\n",
       "      <td>(_84029E)</td>\n",
       "    </tr>\n",
       "    <tr>\n",
       "      <th>3</th>\n",
       "      <td>0.014865</td>\n",
       "      <td>(_22752)</td>\n",
       "    </tr>\n",
       "    <tr>\n",
       "      <th>4</th>\n",
       "      <td>0.013205</td>\n",
       "      <td>(_71053)</td>\n",
       "    </tr>\n",
       "  </tbody>\n",
       "</table>\n",
       "</div>"
      ],
      "text/plain": [
       "    support   itemsets\n",
       "0  0.086718  (_85123A)\n",
       "1  0.017915  (_84029G)\n",
       "2  0.016911  (_84029E)\n",
       "3  0.014865   (_22752)\n",
       "4  0.013205   (_71053)"
      ]
     },
     "execution_count": 36,
     "metadata": {},
     "output_type": "execute_result"
    }
   ],
   "source": [
    "is_fp.head()"
   ]
  },
  {
   "cell_type": "markdown",
   "id": "8d1f3677",
   "metadata": {},
   "source": [
    "## Show that is_ap and is_fp both contain the same itemsets"
   ]
  },
  {
   "cell_type": "code",
   "execution_count": 37,
   "id": "f5f954d6",
   "metadata": {},
   "outputs": [],
   "source": [
    "def itemset_to_ordered_string(itemset):\n",
    "    return ','.join(sorted(list(itemset)))"
   ]
  },
  {
   "cell_type": "code",
   "execution_count": 38,
   "id": "55b3bc42",
   "metadata": {},
   "outputs": [],
   "source": [
    "ap_itemset_strings = is_ap['itemsets'].apply(itemset_to_ordered_string)"
   ]
  },
  {
   "cell_type": "code",
   "execution_count": 39,
   "id": "822f9ad0",
   "metadata": {},
   "outputs": [],
   "source": [
    "ap_itemset_strings = ap_itemset_strings.sort_values().reset_index(drop=True)"
   ]
  },
  {
   "cell_type": "code",
   "execution_count": 40,
   "id": "c350a065",
   "metadata": {},
   "outputs": [
    {
     "data": {
      "text/plain": [
       "0      _15036\n",
       "1    _15056BL\n",
       "2     _15056N\n",
       "3      _16237\n",
       "4      _20675\n",
       "Name: itemsets, dtype: object"
      ]
     },
     "execution_count": 40,
     "metadata": {},
     "output_type": "execute_result"
    }
   ],
   "source": [
    "ap_itemset_strings.head()"
   ]
  },
  {
   "cell_type": "code",
   "execution_count": 41,
   "id": "6859ac3a",
   "metadata": {},
   "outputs": [],
   "source": [
    "fp_itemset_strings = is_fp['itemsets'].apply(itemset_to_ordered_string)"
   ]
  },
  {
   "cell_type": "code",
   "execution_count": 42,
   "id": "ec282df5",
   "metadata": {},
   "outputs": [
    {
     "data": {
      "text/plain": [
       "0      _15036\n",
       "1    _15056BL\n",
       "2     _15056N\n",
       "3      _16237\n",
       "4      _20675\n",
       "Name: itemsets, dtype: object"
      ]
     },
     "execution_count": 42,
     "metadata": {},
     "output_type": "execute_result"
    }
   ],
   "source": [
    "fp_itemset_strings = fp_itemset_strings.sort_values().reset_index(drop=True)\n",
    "fp_itemset_strings.head()"
   ]
  },
  {
   "cell_type": "code",
   "execution_count": 43,
   "id": "ec080e36",
   "metadata": {},
   "outputs": [
    {
     "data": {
      "text/plain": [
       "True"
      ]
     },
     "execution_count": 43,
     "metadata": {},
     "output_type": "execute_result"
    }
   ],
   "source": [
    "# test to see if the itemset lists are equal\n",
    "fp_itemset_strings.equals(ap_itemset_strings)"
   ]
  },
  {
   "cell_type": "markdown",
   "id": "45fe790c",
   "metadata": {},
   "source": [
    "## Calculate Association Rules"
   ]
  },
  {
   "cell_type": "code",
   "execution_count": 44,
   "id": "14d6d869",
   "metadata": {},
   "outputs": [],
   "source": [
    "from mlxtend.frequent_patterns import association_rules"
   ]
  },
  {
   "cell_type": "code",
   "execution_count": 45,
   "id": "68b10cfc",
   "metadata": {},
   "outputs": [
    {
     "data": {
      "text/html": [
       "<div>\n",
       "<style scoped>\n",
       "    .dataframe tbody tr th:only-of-type {\n",
       "        vertical-align: middle;\n",
       "    }\n",
       "\n",
       "    .dataframe tbody tr th {\n",
       "        vertical-align: top;\n",
       "    }\n",
       "\n",
       "    .dataframe thead th {\n",
       "        text-align: right;\n",
       "    }\n",
       "</style>\n",
       "<table border=\"1\" class=\"dataframe\">\n",
       "  <thead>\n",
       "    <tr style=\"text-align: right;\">\n",
       "      <th></th>\n",
       "      <th>support</th>\n",
       "      <th>itemsets</th>\n",
       "    </tr>\n",
       "  </thead>\n",
       "  <tbody>\n",
       "    <tr>\n",
       "      <th>0</th>\n",
       "      <td>0.086718</td>\n",
       "      <td>(_85123A)</td>\n",
       "    </tr>\n",
       "    <tr>\n",
       "      <th>1</th>\n",
       "      <td>0.017915</td>\n",
       "      <td>(_84029G)</td>\n",
       "    </tr>\n",
       "    <tr>\n",
       "      <th>2</th>\n",
       "      <td>0.016911</td>\n",
       "      <td>(_84029E)</td>\n",
       "    </tr>\n",
       "    <tr>\n",
       "      <th>3</th>\n",
       "      <td>0.014865</td>\n",
       "      <td>(_22752)</td>\n",
       "    </tr>\n",
       "    <tr>\n",
       "      <th>4</th>\n",
       "      <td>0.013205</td>\n",
       "      <td>(_71053)</td>\n",
       "    </tr>\n",
       "    <tr>\n",
       "      <th>...</th>\n",
       "      <td>...</td>\n",
       "      <td>...</td>\n",
       "    </tr>\n",
       "    <tr>\n",
       "      <th>997</th>\n",
       "      <td>0.010077</td>\n",
       "      <td>(_23203, _23344)</td>\n",
       "    </tr>\n",
       "    <tr>\n",
       "      <th>998</th>\n",
       "      <td>0.010039</td>\n",
       "      <td>(_23344, _22086)</td>\n",
       "    </tr>\n",
       "    <tr>\n",
       "      <th>999</th>\n",
       "      <td>0.011853</td>\n",
       "      <td>(_23293, _23295)</td>\n",
       "    </tr>\n",
       "    <tr>\n",
       "      <th>1000</th>\n",
       "      <td>0.010077</td>\n",
       "      <td>(_23293, _23296)</td>\n",
       "    </tr>\n",
       "    <tr>\n",
       "      <th>1001</th>\n",
       "      <td>0.010463</td>\n",
       "      <td>(_23355, _22112)</td>\n",
       "    </tr>\n",
       "  </tbody>\n",
       "</table>\n",
       "<p>1002 rows × 2 columns</p>\n",
       "</div>"
      ],
      "text/plain": [
       "       support          itemsets\n",
       "0     0.086718         (_85123A)\n",
       "1     0.017915         (_84029G)\n",
       "2     0.016911         (_84029E)\n",
       "3     0.014865          (_22752)\n",
       "4     0.013205          (_71053)\n",
       "...        ...               ...\n",
       "997   0.010077  (_23203, _23344)\n",
       "998   0.010039  (_23344, _22086)\n",
       "999   0.011853  (_23293, _23295)\n",
       "1000  0.010077  (_23293, _23296)\n",
       "1001  0.010463  (_23355, _22112)\n",
       "\n",
       "[1002 rows x 2 columns]"
      ]
     },
     "execution_count": 45,
     "metadata": {},
     "output_type": "execute_result"
    }
   ],
   "source": [
    "is_fp"
   ]
  },
  {
   "cell_type": "code",
   "execution_count": 46,
   "id": "8ac26227",
   "metadata": {},
   "outputs": [
    {
     "data": {
      "text/html": [
       "<div>\n",
       "<style scoped>\n",
       "    .dataframe tbody tr th:only-of-type {\n",
       "        vertical-align: middle;\n",
       "    }\n",
       "\n",
       "    .dataframe tbody tr th {\n",
       "        vertical-align: top;\n",
       "    }\n",
       "\n",
       "    .dataframe thead th {\n",
       "        text-align: right;\n",
       "    }\n",
       "</style>\n",
       "<table border=\"1\" class=\"dataframe\">\n",
       "  <thead>\n",
       "    <tr style=\"text-align: right;\">\n",
       "      <th></th>\n",
       "      <th>antecedents</th>\n",
       "      <th>consequents</th>\n",
       "      <th>antecedent support</th>\n",
       "      <th>consequent support</th>\n",
       "      <th>support</th>\n",
       "      <th>confidence</th>\n",
       "      <th>lift</th>\n",
       "      <th>leverage</th>\n",
       "      <th>conviction</th>\n",
       "    </tr>\n",
       "  </thead>\n",
       "  <tbody>\n",
       "    <tr>\n",
       "      <th>0</th>\n",
       "      <td>(_21754)</td>\n",
       "      <td>(_21755)</td>\n",
       "      <td>0.030386</td>\n",
       "      <td>0.024363</td>\n",
       "      <td>0.011467</td>\n",
       "      <td>0.377382</td>\n",
       "      <td>15.490025</td>\n",
       "      <td>0.010727</td>\n",
       "      <td>1.566993</td>\n",
       "    </tr>\n",
       "    <tr>\n",
       "      <th>1</th>\n",
       "      <td>(_21755)</td>\n",
       "      <td>(_21754)</td>\n",
       "      <td>0.024363</td>\n",
       "      <td>0.030386</td>\n",
       "      <td>0.011467</td>\n",
       "      <td>0.470681</td>\n",
       "      <td>15.490025</td>\n",
       "      <td>0.010727</td>\n",
       "      <td>1.831815</td>\n",
       "    </tr>\n",
       "    <tr>\n",
       "      <th>2</th>\n",
       "      <td>(_22748)</td>\n",
       "      <td>(_22745)</td>\n",
       "      <td>0.016988</td>\n",
       "      <td>0.016448</td>\n",
       "      <td>0.012124</td>\n",
       "      <td>0.713636</td>\n",
       "      <td>43.387751</td>\n",
       "      <td>0.011844</td>\n",
       "      <td>3.434626</td>\n",
       "    </tr>\n",
       "    <tr>\n",
       "      <th>3</th>\n",
       "      <td>(_22745)</td>\n",
       "      <td>(_22748)</td>\n",
       "      <td>0.016448</td>\n",
       "      <td>0.016988</td>\n",
       "      <td>0.012124</td>\n",
       "      <td>0.737089</td>\n",
       "      <td>43.387751</td>\n",
       "      <td>0.011844</td>\n",
       "      <td>3.738955</td>\n",
       "    </tr>\n",
       "    <tr>\n",
       "      <th>4</th>\n",
       "      <td>(_22726)</td>\n",
       "      <td>(_22727)</td>\n",
       "      <td>0.038726</td>\n",
       "      <td>0.041737</td>\n",
       "      <td>0.024942</td>\n",
       "      <td>0.644068</td>\n",
       "      <td>15.431412</td>\n",
       "      <td>0.023326</td>\n",
       "      <td>2.692261</td>\n",
       "    </tr>\n",
       "  </tbody>\n",
       "</table>\n",
       "</div>"
      ],
      "text/plain": [
       "  antecedents consequents  antecedent support  consequent support   support  \\\n",
       "0    (_21754)    (_21755)            0.030386            0.024363  0.011467   \n",
       "1    (_21755)    (_21754)            0.024363            0.030386  0.011467   \n",
       "2    (_22748)    (_22745)            0.016988            0.016448  0.012124   \n",
       "3    (_22745)    (_22748)            0.016448            0.016988  0.012124   \n",
       "4    (_22726)    (_22727)            0.038726            0.041737  0.024942   \n",
       "\n",
       "   confidence       lift  leverage  conviction  \n",
       "0    0.377382  15.490025  0.010727    1.566993  \n",
       "1    0.470681  15.490025  0.010727    1.831815  \n",
       "2    0.713636  43.387751  0.011844    3.434626  \n",
       "3    0.737089  43.387751  0.011844    3.738955  \n",
       "4    0.644068  15.431412  0.023326    2.692261  "
      ]
     },
     "execution_count": 46,
     "metadata": {},
     "output_type": "execute_result"
    }
   ],
   "source": [
    "rules = association_rules(is_fp, metric=\"lift\", min_threshold=10)\n",
    "rules.head()"
   ]
  },
  {
   "cell_type": "code",
   "execution_count": 47,
   "id": "46c57647",
   "metadata": {},
   "outputs": [
    {
     "data": {
      "text/plain": [
       "(280, 9)"
      ]
     },
     "execution_count": 47,
     "metadata": {},
     "output_type": "execute_result"
    }
   ],
   "source": [
    "rules.shape"
   ]
  },
  {
   "cell_type": "markdown",
   "id": "160361ec",
   "metadata": {},
   "source": [
    "##  Predictions"
   ]
  },
  {
   "cell_type": "code",
   "execution_count": 48,
   "id": "868d76ae",
   "metadata": {},
   "outputs": [],
   "source": [
    "def predict(antecedent, rules, max_results= 6):\n",
    "    \n",
    "    # get the rules for this antecedent\n",
    "    preds = rules[rules['antecedents'] == antecedent]\n",
    "    \n",
    "    # a messy way to convert a frozen set with one element to string\n",
    "    preds = preds['consequents'].apply(iter).apply(next)\n",
    "    \n",
    "    return preds[:max_results].reset_index(drop=True)"
   ]
  },
  {
   "cell_type": "code",
   "execution_count": 61,
   "id": "e1799e73",
   "metadata": {},
   "outputs": [],
   "source": [
    "preds = predict({'_20712'}, rules)"
   ]
  },
  {
   "cell_type": "code",
   "execution_count": 62,
   "id": "df0c085b",
   "metadata": {},
   "outputs": [
    {
     "data": {
      "text/plain": [
       "0    _22379\n",
       "1    _20713\n",
       "2    _21930\n",
       "3    _21931\n",
       "4    _22386\n",
       "5    _21928\n",
       "Name: consequents, dtype: object"
      ]
     },
     "execution_count": 62,
     "metadata": {},
     "output_type": "execute_result"
    }
   ],
   "source": [
    "preds"
   ]
  },
  {
   "cell_type": "code",
   "execution_count": 63,
   "id": "c0d7912c",
   "metadata": {},
   "outputs": [
    {
     "name": "stdout",
     "output_type": "stream",
     "text": [
      "JUMBO BAG WOODLAND ANIMALS\n"
     ]
    }
   ],
   "source": [
    "print(products['_20712'])"
   ]
  },
  {
   "cell_type": "code",
   "execution_count": 64,
   "id": "19859f3e",
   "metadata": {},
   "outputs": [
    {
     "name": "stdout",
     "output_type": "stream",
     "text": [
      "RECYCLING BAG RETROSPOT \n",
      "JUMBO BAG OWLS\n",
      "JUMBO STORAGE BAG SKULLS\n",
      "JUMBO STORAGE BAG SUKI\n",
      "JUMBO BAG PINK POLKADOT\n",
      "JUMBO BAG SCANDINAVIAN PAISLEY\n"
     ]
    }
   ],
   "source": [
    "for stockid in preds:  \n",
    "    print(products[stockid])"
   ]
  },
  {
   "cell_type": "code",
   "execution_count": 82,
   "id": "ad7bf1c8",
   "metadata": {},
   "outputs": [
    {
     "name": "stdout",
     "output_type": "stream",
     "text": [
      "LOVE BUILDING BLOCK WORD\n"
     ]
    }
   ],
   "source": [
    "print(products['_21755'])"
   ]
  },
  {
   "cell_type": "code",
   "execution_count": 83,
   "id": "00a0fc92",
   "metadata": {},
   "outputs": [
    {
     "name": "stdout",
     "output_type": "stream",
     "text": [
      "HOME BUILDING BLOCK WORD\n"
     ]
    }
   ],
   "source": [
    "# get the predictions\n",
    "preds = predict({'_21755'}, rules)\n",
    "\n",
    "# Display the descriptions of the predictions\n",
    "for stockid in preds:  \n",
    "    print(products[stockid])"
   ]
  },
  {
   "cell_type": "code",
   "execution_count": 84,
   "id": "19370676",
   "metadata": {},
   "outputs": [
    {
     "name": "stdout",
     "output_type": "stream",
     "text": [
      "POPPY'S PLAYHOUSE KITCHEN\n"
     ]
    }
   ],
   "source": [
    "print(products['_22748'])"
   ]
  },
  {
   "cell_type": "code",
   "execution_count": 85,
   "id": "cfaf531b",
   "metadata": {},
   "outputs": [
    {
     "name": "stdout",
     "output_type": "stream",
     "text": [
      "POPPY'S PLAYHOUSE BEDROOM \n",
      "POPPY'S PLAYHOUSE LIVINGROOM \n"
     ]
    }
   ],
   "source": [
    "# get the predictions\n",
    "preds = predict({'_22748'}, rules)\n",
    "\n",
    "# Display the descriptions of the predictions\n",
    "for stockid in preds:  \n",
    "    print(products[stockid])"
   ]
  },
  {
   "cell_type": "code",
   "execution_count": 77,
   "id": "2389204b",
   "metadata": {},
   "outputs": [
    {
     "data": {
      "text/plain": [
       "0      (_21754)\n",
       "1      (_21755)\n",
       "2      (_22748)\n",
       "3      (_22745)\n",
       "4      (_22726)\n",
       "         ...   \n",
       "275    (_23295)\n",
       "276    (_23293)\n",
       "277    (_23296)\n",
       "278    (_23355)\n",
       "279    (_22112)\n",
       "Name: antecedents, Length: 280, dtype: object"
      ]
     },
     "execution_count": 77,
     "metadata": {},
     "output_type": "execute_result"
    }
   ],
   "source": [
    "rules.antecedents"
   ]
  },
  {
   "cell_type": "code",
   "execution_count": null,
   "id": "f532f0ab",
   "metadata": {},
   "outputs": [],
   "source": []
  }
 ],
 "metadata": {
  "kernelspec": {
   "display_name": "Python 3",
   "language": "python",
   "name": "python3"
  },
  "language_info": {
   "codemirror_mode": {
    "name": "ipython",
    "version": 3
   },
   "file_extension": ".py",
   "mimetype": "text/x-python",
   "name": "python",
   "nbconvert_exporter": "python",
   "pygments_lexer": "ipython3",
   "version": "3.8.8"
  }
 },
 "nbformat": 4,
 "nbformat_minor": 5
}
